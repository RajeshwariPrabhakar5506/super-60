{
 "cells": [
  {
   "cell_type": "code",
   "execution_count": 1,
   "id": "4bfda472",
   "metadata": {
    "executionInfo": {
     "elapsed": 4024,
     "status": "ok",
     "timestamp": 1761715844341,
     "user": {
      "displayName": "Lohith Bandla",
      "userId": "16055164822052850482"
     },
     "user_tz": -330
    },
    "id": "4bfda472"
   },
   "outputs": [],
   "source": [
    "#import dependencies\n",
    "from keras.models import Sequential\n",
    "from keras.layers import Dense,Flatten\n",
    "from keras.datasets import fashion_mnist,cifar10\n",
    "from keras import regularizers\n",
    "from keras.utils import to_categorical\n",
    "from keras.optimizers import Adam\n",
    "import matplotlib.pyplot as plt"
   ]
  },
  {
   "cell_type": "code",
   "execution_count": 2,
   "id": "160b8dde",
   "metadata": {
    "colab": {
     "base_uri": "https://localhost:8080/"
    },
    "executionInfo": {
     "elapsed": 10301,
     "status": "ok",
     "timestamp": 1761715854645,
     "user": {
      "displayName": "Lohith Bandla",
      "userId": "16055164822052850482"
     },
     "user_tz": -330
    },
    "id": "160b8dde",
    "outputId": "31dd7ea6-ba21-4d2e-c630-c00c11cfed43"
   },
   "outputs": [],
   "source": [
    "#load data\n",
    "(x_train,y_train),(x_test,y_test)=cifar10.load_data()"
   ]
  },
  {
   "cell_type": "code",
   "execution_count": 3,
   "id": "c96bbfd6",
   "metadata": {
    "executionInfo": {
     "elapsed": 621,
     "status": "ok",
     "timestamp": 1761715855270,
     "user": {
      "displayName": "Lohith Bandla",
      "userId": "16055164822052850482"
     },
     "user_tz": -330
    },
    "id": "c96bbfd6"
   },
   "outputs": [],
   "source": [
    "#normalise\n",
    "x_train=x_train.astype('float32')/255\n",
    "x_test=x_test.astype('float32')/255"
   ]
  },
  {
   "cell_type": "code",
   "execution_count": 4,
   "id": "8f0ebd1b",
   "metadata": {
    "executionInfo": {
     "elapsed": 27,
     "status": "ok",
     "timestamp": 1761715855300,
     "user": {
      "displayName": "Lohith Bandla",
      "userId": "16055164822052850482"
     },
     "user_tz": -330
    },
    "id": "8f0ebd1b"
   },
   "outputs": [],
   "source": [
    "#to_categorical\n",
    "y_train=to_categorical(y_train)\n",
    "y_test=to_categorical(y_test)"
   ]
  },
  {
   "cell_type": "code",
   "execution_count": 5,
   "id": "43804db7",
   "metadata": {
    "colab": {
     "base_uri": "https://localhost:8080/"
    },
    "executionInfo": {
     "elapsed": 4472,
     "status": "ok",
     "timestamp": 1761715859774,
     "user": {
      "displayName": "Lohith Bandla",
      "userId": "16055164822052850482"
     },
     "user_tz": -330
    },
    "id": "43804db7",
    "outputId": "ac6df9d0-6509-4811-e8f2-aef8463e8c67"
   },
   "outputs": [
    {
     "name": "stderr",
     "output_type": "stream",
     "text": [
      "C:\\Users\\Raj\\AppData\\Roaming\\Python\\Python313\\site-packages\\keras\\src\\layers\\reshaping\\flatten.py:37: UserWarning: Do not pass an `input_shape`/`input_dim` argument to a layer. When using Sequential models, prefer using an `Input(shape)` object as the first layer in the model instead.\n",
      "  super().__init__(**kwargs)\n"
     ]
    }
   ],
   "source": [
    "#architecture\n",
    "model_base=Sequential()\n",
    "model_base.add(Flatten(input_shape=(32,32,3))) #first layer\n",
    "model_base.add(Dense(1024,activation='relu'))#hidden layer\n",
    "model_base.add(Dense(512,activation='relu'))\n",
    "model_base.add(Dense(256,activation='relu'))\n",
    "model_base.add(Dense(128,activation='relu'))\n",
    "model_base.add(Dense(64,activation='relu'))\n",
    "model_base.add(Dense(10,activation='softmax')) #outout layer"
   ]
  },
  {
   "cell_type": "code",
   "execution_count": 6,
   "id": "fec89810",
   "metadata": {
    "executionInfo": {
     "elapsed": 6,
     "status": "ok",
     "timestamp": 1761715859777,
     "user": {
      "displayName": "Lohith Bandla",
      "userId": "16055164822052850482"
     },
     "user_tz": -330
    },
    "id": "fec89810"
   },
   "outputs": [],
   "source": [
    "#compile\n",
    "model_base.compile(optimizer=Adam(learning_rate=0.001),\n",
    "                   loss='categorical_crossentropy',\n",
    "                   metrics=['accuracy'])"
   ]
  },
  {
   "cell_type": "code",
   "execution_count": 7,
   "id": "dd951558",
   "metadata": {
    "colab": {
     "base_uri": "https://localhost:8080/"
    },
    "executionInfo": {
     "elapsed": 66665,
     "status": "ok",
     "timestamp": 1761715926445,
     "user": {
      "displayName": "Lohith Bandla",
      "userId": "16055164822052850482"
     },
     "user_tz": -330
    },
    "id": "dd951558",
    "outputId": "574cbe89-0b68-45a0-80a9-453a050c89ca"
   },
   "outputs": [
    {
     "name": "stdout",
     "output_type": "stream",
     "text": [
      "Epoch 1/30\n",
      "\u001b[1m313/313\u001b[0m \u001b[32m━━━━━━━━━━━━━━━━━━━━\u001b[0m\u001b[37m\u001b[0m \u001b[1m23s\u001b[0m 67ms/step - accuracy: 0.2734 - loss: 1.9745 - val_accuracy: 0.3300 - val_loss: 1.8313\n",
      "Epoch 2/30\n",
      "\u001b[1m313/313\u001b[0m \u001b[32m━━━━━━━━━━━━━━━━━━━━\u001b[0m\u001b[37m\u001b[0m \u001b[1m21s\u001b[0m 66ms/step - accuracy: 0.3629 - loss: 1.7589 - val_accuracy: 0.3821 - val_loss: 1.7342\n",
      "Epoch 3/30\n",
      "\u001b[1m313/313\u001b[0m \u001b[32m━━━━━━━━━━━━━━━━━━━━\u001b[0m\u001b[37m\u001b[0m \u001b[1m22s\u001b[0m 70ms/step - accuracy: 0.3934 - loss: 1.6820 - val_accuracy: 0.3991 - val_loss: 1.6672\n",
      "Epoch 4/30\n",
      "\u001b[1m313/313\u001b[0m \u001b[32m━━━━━━━━━━━━━━━━━━━━\u001b[0m\u001b[37m\u001b[0m \u001b[1m20s\u001b[0m 65ms/step - accuracy: 0.4223 - loss: 1.6084 - val_accuracy: 0.4231 - val_loss: 1.6235\n",
      "Epoch 5/30\n",
      "\u001b[1m313/313\u001b[0m \u001b[32m━━━━━━━━━━━━━━━━━━━━\u001b[0m\u001b[37m\u001b[0m \u001b[1m20s\u001b[0m 64ms/step - accuracy: 0.4420 - loss: 1.5604 - val_accuracy: 0.4157 - val_loss: 1.6393\n",
      "Epoch 6/30\n",
      "\u001b[1m313/313\u001b[0m \u001b[32m━━━━━━━━━━━━━━━━━━━━\u001b[0m\u001b[37m\u001b[0m \u001b[1m20s\u001b[0m 63ms/step - accuracy: 0.4573 - loss: 1.5113 - val_accuracy: 0.4440 - val_loss: 1.5652\n",
      "Epoch 7/30\n",
      "\u001b[1m313/313\u001b[0m \u001b[32m━━━━━━━━━━━━━━━━━━━━\u001b[0m\u001b[37m\u001b[0m \u001b[1m20s\u001b[0m 64ms/step - accuracy: 0.4747 - loss: 1.4689 - val_accuracy: 0.4665 - val_loss: 1.5175\n",
      "Epoch 8/30\n",
      "\u001b[1m313/313\u001b[0m \u001b[32m━━━━━━━━━━━━━━━━━━━━\u001b[0m\u001b[37m\u001b[0m \u001b[1m20s\u001b[0m 65ms/step - accuracy: 0.4879 - loss: 1.4366 - val_accuracy: 0.4664 - val_loss: 1.5248\n",
      "Epoch 9/30\n",
      "\u001b[1m313/313\u001b[0m \u001b[32m━━━━━━━━━━━━━━━━━━━━\u001b[0m\u001b[37m\u001b[0m \u001b[1m20s\u001b[0m 64ms/step - accuracy: 0.4972 - loss: 1.4086 - val_accuracy: 0.4822 - val_loss: 1.4727\n",
      "Epoch 10/30\n",
      "\u001b[1m313/313\u001b[0m \u001b[32m━━━━━━━━━━━━━━━━━━━━\u001b[0m\u001b[37m\u001b[0m \u001b[1m20s\u001b[0m 65ms/step - accuracy: 0.5042 - loss: 1.3810 - val_accuracy: 0.4728 - val_loss: 1.5059\n",
      "Epoch 11/30\n",
      "\u001b[1m313/313\u001b[0m \u001b[32m━━━━━━━━━━━━━━━━━━━━\u001b[0m\u001b[37m\u001b[0m \u001b[1m20s\u001b[0m 63ms/step - accuracy: 0.5184 - loss: 1.3537 - val_accuracy: 0.4860 - val_loss: 1.4510\n",
      "Epoch 12/30\n",
      "\u001b[1m313/313\u001b[0m \u001b[32m━━━━━━━━━━━━━━━━━━━━\u001b[0m\u001b[37m\u001b[0m \u001b[1m20s\u001b[0m 63ms/step - accuracy: 0.5275 - loss: 1.3222 - val_accuracy: 0.4812 - val_loss: 1.4711\n",
      "Epoch 13/30\n",
      "\u001b[1m313/313\u001b[0m \u001b[32m━━━━━━━━━━━━━━━━━━━━\u001b[0m\u001b[37m\u001b[0m \u001b[1m20s\u001b[0m 64ms/step - accuracy: 0.5353 - loss: 1.2939 - val_accuracy: 0.4714 - val_loss: 1.4800\n",
      "Epoch 14/30\n",
      "\u001b[1m313/313\u001b[0m \u001b[32m━━━━━━━━━━━━━━━━━━━━\u001b[0m\u001b[37m\u001b[0m \u001b[1m20s\u001b[0m 64ms/step - accuracy: 0.5423 - loss: 1.2732 - val_accuracy: 0.4984 - val_loss: 1.4230\n",
      "Epoch 15/30\n",
      "\u001b[1m313/313\u001b[0m \u001b[32m━━━━━━━━━━━━━━━━━━━━\u001b[0m\u001b[37m\u001b[0m \u001b[1m20s\u001b[0m 64ms/step - accuracy: 0.5561 - loss: 1.2361 - val_accuracy: 0.5061 - val_loss: 1.4220\n",
      "Epoch 16/30\n",
      "\u001b[1m313/313\u001b[0m \u001b[32m━━━━━━━━━━━━━━━━━━━━\u001b[0m\u001b[37m\u001b[0m \u001b[1m20s\u001b[0m 64ms/step - accuracy: 0.5661 - loss: 1.2068 - val_accuracy: 0.5011 - val_loss: 1.4377\n",
      "Epoch 17/30\n",
      "\u001b[1m313/313\u001b[0m \u001b[32m━━━━━━━━━━━━━━━━━━━━\u001b[0m\u001b[37m\u001b[0m \u001b[1m20s\u001b[0m 64ms/step - accuracy: 0.5753 - loss: 1.1840 - val_accuracy: 0.5028 - val_loss: 1.4289\n",
      "Epoch 18/30\n",
      "\u001b[1m313/313\u001b[0m \u001b[32m━━━━━━━━━━━━━━━━━━━━\u001b[0m\u001b[37m\u001b[0m \u001b[1m20s\u001b[0m 64ms/step - accuracy: 0.5899 - loss: 1.1507 - val_accuracy: 0.5012 - val_loss: 1.4532\n",
      "Epoch 19/30\n",
      "\u001b[1m313/313\u001b[0m \u001b[32m━━━━━━━━━━━━━━━━━━━━\u001b[0m\u001b[37m\u001b[0m \u001b[1m20s\u001b[0m 64ms/step - accuracy: 0.5927 - loss: 1.1292 - val_accuracy: 0.5067 - val_loss: 1.4455\n",
      "Epoch 20/30\n",
      "\u001b[1m313/313\u001b[0m \u001b[32m━━━━━━━━━━━━━━━━━━━━\u001b[0m\u001b[37m\u001b[0m \u001b[1m20s\u001b[0m 64ms/step - accuracy: 0.6044 - loss: 1.0961 - val_accuracy: 0.5041 - val_loss: 1.4703\n",
      "Epoch 21/30\n",
      "\u001b[1m313/313\u001b[0m \u001b[32m━━━━━━━━━━━━━━━━━━━━\u001b[0m\u001b[37m\u001b[0m \u001b[1m20s\u001b[0m 64ms/step - accuracy: 0.6198 - loss: 1.0571 - val_accuracy: 0.5008 - val_loss: 1.4784\n",
      "Epoch 22/30\n",
      "\u001b[1m313/313\u001b[0m \u001b[32m━━━━━━━━━━━━━━━━━━━━\u001b[0m\u001b[37m\u001b[0m \u001b[1m21s\u001b[0m 66ms/step - accuracy: 0.6271 - loss: 1.0364 - val_accuracy: 0.4936 - val_loss: 1.5604\n",
      "Epoch 23/30\n",
      "\u001b[1m313/313\u001b[0m \u001b[32m━━━━━━━━━━━━━━━━━━━━\u001b[0m\u001b[37m\u001b[0m \u001b[1m21s\u001b[0m 66ms/step - accuracy: 0.6362 - loss: 1.0045 - val_accuracy: 0.5011 - val_loss: 1.5277\n",
      "Epoch 24/30\n",
      "\u001b[1m313/313\u001b[0m \u001b[32m━━━━━━━━━━━━━━━━━━━━\u001b[0m\u001b[37m\u001b[0m \u001b[1m21s\u001b[0m 66ms/step - accuracy: 0.6499 - loss: 0.9718 - val_accuracy: 0.5055 - val_loss: 1.5379\n",
      "Epoch 25/30\n",
      "\u001b[1m313/313\u001b[0m \u001b[32m━━━━━━━━━━━━━━━━━━━━\u001b[0m\u001b[37m\u001b[0m \u001b[1m21s\u001b[0m 66ms/step - accuracy: 0.6612 - loss: 0.9424 - val_accuracy: 0.5019 - val_loss: 1.5945\n",
      "Epoch 26/30\n",
      "\u001b[1m313/313\u001b[0m \u001b[32m━━━━━━━━━━━━━━━━━━━━\u001b[0m\u001b[37m\u001b[0m \u001b[1m20s\u001b[0m 65ms/step - accuracy: 0.6709 - loss: 0.9153 - val_accuracy: 0.5115 - val_loss: 1.5127\n",
      "Epoch 27/30\n",
      "\u001b[1m313/313\u001b[0m \u001b[32m━━━━━━━━━━━━━━━━━━━━\u001b[0m\u001b[37m\u001b[0m \u001b[1m20s\u001b[0m 65ms/step - accuracy: 0.6790 - loss: 0.8881 - val_accuracy: 0.4948 - val_loss: 1.6315\n",
      "Epoch 28/30\n",
      "\u001b[1m313/313\u001b[0m \u001b[32m━━━━━━━━━━━━━━━━━━━━\u001b[0m\u001b[37m\u001b[0m \u001b[1m21s\u001b[0m 66ms/step - accuracy: 0.6880 - loss: 0.8561 - val_accuracy: 0.5040 - val_loss: 1.6253\n",
      "Epoch 29/30\n",
      "\u001b[1m313/313\u001b[0m \u001b[32m━━━━━━━━━━━━━━━━━━━━\u001b[0m\u001b[37m\u001b[0m \u001b[1m20s\u001b[0m 64ms/step - accuracy: 0.7009 - loss: 0.8263 - val_accuracy: 0.4965 - val_loss: 1.7052\n",
      "Epoch 30/30\n",
      "\u001b[1m313/313\u001b[0m \u001b[32m━━━━━━━━━━━━━━━━━━━━\u001b[0m\u001b[37m\u001b[0m \u001b[1m20s\u001b[0m 63ms/step - accuracy: 0.7122 - loss: 0.7993 - val_accuracy: 0.5022 - val_loss: 1.6878\n"
     ]
    }
   ],
   "source": [
    "#train\n",
    "m1=model_base.fit(x_train,y_train,epochs=30,batch_size=128,validation_split=0.2)"
   ]
  },
  {
   "cell_type": "code",
   "execution_count": 8,
   "id": "194b7823",
   "metadata": {
    "colab": {
     "base_uri": "https://localhost:8080/"
    },
    "executionInfo": {
     "elapsed": 1721,
     "status": "ok",
     "timestamp": 1761715928171,
     "user": {
      "displayName": "Lohith Bandla",
      "userId": "16055164822052850482"
     },
     "user_tz": -330
    },
    "id": "194b7823",
    "outputId": "10118744-f44e-469f-9d35-64dc779c044d"
   },
   "outputs": [
    {
     "name": "stdout",
     "output_type": "stream",
     "text": [
      "\u001b[1m313/313\u001b[0m \u001b[32m━━━━━━━━━━━━━━━━━━━━\u001b[0m\u001b[37m\u001b[0m \u001b[1m1s\u001b[0m 4ms/step - accuracy: 0.4938 - loss: 1.6705\n"
     ]
    }
   ],
   "source": [
    "#evaluate\n",
    "loss,test_accuracy=model_base.evaluate(x_test,y_test)"
   ]
  },
  {
   "cell_type": "code",
   "execution_count": 9,
   "id": "4603103a",
   "metadata": {
    "executionInfo": {
     "elapsed": 35,
     "status": "ok",
     "timestamp": 1761715928209,
     "user": {
      "displayName": "Lohith Bandla",
      "userId": "16055164822052850482"
     },
     "user_tz": -330
    },
    "id": "4603103a"
   },
   "outputs": [],
   "source": [
    "#MODEL with 12 regulizer(le-4) and dropout\n",
    "#architecture\n",
    "model_le4=Sequential()\n",
    "model_le4.add(Flatten(input_shape=(32,32,3))) #first layer\n",
    "model_le4.add(Dense(1024,activation='relu',kernel_regularizer=regularizers.l2(1e-4)))#hidden layer\n",
    "model_le4.add(Dense(512,activation='relu',kernel_regularizer=regularizers.l2(1e-4)))\n",
    "model_le4.add(Dense(256,activation='relu',kernel_regularizer=regularizers.l2(1e-4)))\n",
    "model_le4.add(Dense(128,activation='relu',kernel_regularizer=regularizers.l2(1e-4)))\n",
    "model_le4.add(Dense(64,activation='relu',kernel_regularizer=regularizers.l2(1e-4)))\n",
    "model_le4.add(Dense(10,activation='softmax')) #outout layer"
   ]
  },
  {
   "cell_type": "code",
   "execution_count": 10,
   "id": "020f688b",
   "metadata": {
    "executionInfo": {
     "elapsed": 2,
     "status": "ok",
     "timestamp": 1761715928217,
     "user": {
      "displayName": "Lohith Bandla",
      "userId": "16055164822052850482"
     },
     "user_tz": -330
    },
    "id": "020f688b"
   },
   "outputs": [],
   "source": [
    "#compile\n",
    "model_le4.compile(optimizer=Adam(learning_rate=0.001),\n",
    "                   loss='categorical_crossentropy',\n",
    "                   metrics=['accuracy'])"
   ]
  },
  {
   "cell_type": "code",
   "execution_count": 11,
   "id": "5bcd0446",
   "metadata": {
    "colab": {
     "base_uri": "https://localhost:8080/"
    },
    "executionInfo": {
     "elapsed": 62318,
     "status": "ok",
     "timestamp": 1761715990538,
     "user": {
      "displayName": "Lohith Bandla",
      "userId": "16055164822052850482"
     },
     "user_tz": -330
    },
    "id": "5bcd0446",
    "outputId": "080773dd-8632-4e13-c549-07785785dd39"
   },
   "outputs": [
    {
     "name": "stdout",
     "output_type": "stream",
     "text": [
      "Epoch 1/30\n",
      "\u001b[1m313/313\u001b[0m \u001b[32m━━━━━━━━━━━━━━━━━━━━\u001b[0m\u001b[37m\u001b[0m \u001b[1m27s\u001b[0m 81ms/step - accuracy: 0.2722 - loss: 2.1372 - val_accuracy: 0.3404 - val_loss: 1.9274\n",
      "Epoch 2/30\n",
      "\u001b[1m313/313\u001b[0m \u001b[32m━━━━━━━━━━━━━━━━━━━━\u001b[0m\u001b[37m\u001b[0m \u001b[1m25s\u001b[0m 80ms/step - accuracy: 0.3638 - loss: 1.8517 - val_accuracy: 0.3751 - val_loss: 1.8138\n",
      "Epoch 3/30\n",
      "\u001b[1m313/313\u001b[0m \u001b[32m━━━━━━━━━━━━━━━━━━━━\u001b[0m\u001b[37m\u001b[0m \u001b[1m25s\u001b[0m 81ms/step - accuracy: 0.3951 - loss: 1.7491 - val_accuracy: 0.3931 - val_loss: 1.7575\n",
      "Epoch 4/30\n",
      "\u001b[1m313/313\u001b[0m \u001b[32m━━━━━━━━━━━━━━━━━━━━\u001b[0m\u001b[37m\u001b[0m \u001b[1m25s\u001b[0m 80ms/step - accuracy: 0.4205 - loss: 1.6820 - val_accuracy: 0.4297 - val_loss: 1.6812\n",
      "Epoch 5/30\n",
      "\u001b[1m313/313\u001b[0m \u001b[32m━━━━━━━━━━━━━━━━━━━━\u001b[0m\u001b[37m\u001b[0m \u001b[1m25s\u001b[0m 80ms/step - accuracy: 0.4392 - loss: 1.6272 - val_accuracy: 0.4241 - val_loss: 1.6886\n",
      "Epoch 6/30\n",
      "\u001b[1m313/313\u001b[0m \u001b[32m━━━━━━━━━━━━━━━━━━━━\u001b[0m\u001b[37m\u001b[0m \u001b[1m25s\u001b[0m 80ms/step - accuracy: 0.4524 - loss: 1.5876 - val_accuracy: 0.4392 - val_loss: 1.6382\n",
      "Epoch 7/30\n",
      "\u001b[1m313/313\u001b[0m \u001b[32m━━━━━━━━━━━━━━━━━━━━\u001b[0m\u001b[37m\u001b[0m \u001b[1m25s\u001b[0m 80ms/step - accuracy: 0.4622 - loss: 1.5635 - val_accuracy: 0.4406 - val_loss: 1.6222\n",
      "Epoch 8/30\n",
      "\u001b[1m313/313\u001b[0m \u001b[32m━━━━━━━━━━━━━━━━━━━━\u001b[0m\u001b[37m\u001b[0m \u001b[1m25s\u001b[0m 81ms/step - accuracy: 0.4742 - loss: 1.5257 - val_accuracy: 0.4661 - val_loss: 1.5583\n",
      "Epoch 9/30\n",
      "\u001b[1m313/313\u001b[0m \u001b[32m━━━━━━━━━━━━━━━━━━━━\u001b[0m\u001b[37m\u001b[0m \u001b[1m25s\u001b[0m 80ms/step - accuracy: 0.4851 - loss: 1.5066 - val_accuracy: 0.4694 - val_loss: 1.5694\n",
      "Epoch 10/30\n",
      "\u001b[1m313/313\u001b[0m \u001b[32m━━━━━━━━━━━━━━━━━━━━\u001b[0m\u001b[37m\u001b[0m \u001b[1m25s\u001b[0m 79ms/step - accuracy: 0.4954 - loss: 1.4736 - val_accuracy: 0.4485 - val_loss: 1.6133\n",
      "Epoch 11/30\n",
      "\u001b[1m313/313\u001b[0m \u001b[32m━━━━━━━━━━━━━━━━━━━━\u001b[0m\u001b[37m\u001b[0m \u001b[1m25s\u001b[0m 79ms/step - accuracy: 0.5040 - loss: 1.4525 - val_accuracy: 0.4744 - val_loss: 1.5415\n",
      "Epoch 12/30\n",
      "\u001b[1m313/313\u001b[0m \u001b[32m━━━━━━━━━━━━━━━━━━━━\u001b[0m\u001b[37m\u001b[0m \u001b[1m25s\u001b[0m 79ms/step - accuracy: 0.5103 - loss: 1.4328 - val_accuracy: 0.4436 - val_loss: 1.6412\n",
      "Epoch 13/30\n",
      "\u001b[1m313/313\u001b[0m \u001b[32m━━━━━━━━━━━━━━━━━━━━\u001b[0m\u001b[37m\u001b[0m \u001b[1m25s\u001b[0m 79ms/step - accuracy: 0.5193 - loss: 1.4149 - val_accuracy: 0.4882 - val_loss: 1.5059\n",
      "Epoch 14/30\n",
      "\u001b[1m313/313\u001b[0m \u001b[32m━━━━━━━━━━━━━━━━━━━━\u001b[0m\u001b[37m\u001b[0m \u001b[1m25s\u001b[0m 80ms/step - accuracy: 0.5243 - loss: 1.3986 - val_accuracy: 0.4841 - val_loss: 1.5360\n",
      "Epoch 15/30\n",
      "\u001b[1m313/313\u001b[0m \u001b[32m━━━━━━━━━━━━━━━━━━━━\u001b[0m\u001b[37m\u001b[0m \u001b[1m25s\u001b[0m 80ms/step - accuracy: 0.5308 - loss: 1.3818 - val_accuracy: 0.4985 - val_loss: 1.5210\n",
      "Epoch 16/30\n",
      "\u001b[1m313/313\u001b[0m \u001b[32m━━━━━━━━━━━━━━━━━━━━\u001b[0m\u001b[37m\u001b[0m \u001b[1m25s\u001b[0m 80ms/step - accuracy: 0.5385 - loss: 1.3640 - val_accuracy: 0.4967 - val_loss: 1.5005\n",
      "Epoch 17/30\n",
      "\u001b[1m313/313\u001b[0m \u001b[32m━━━━━━━━━━━━━━━━━━━━\u001b[0m\u001b[37m\u001b[0m \u001b[1m25s\u001b[0m 80ms/step - accuracy: 0.5466 - loss: 1.3447 - val_accuracy: 0.4946 - val_loss: 1.5374\n",
      "Epoch 18/30\n",
      "\u001b[1m313/313\u001b[0m \u001b[32m━━━━━━━━━━━━━━━━━━━━\u001b[0m\u001b[37m\u001b[0m \u001b[1m26s\u001b[0m 83ms/step - accuracy: 0.5499 - loss: 1.3310 - val_accuracy: 0.4945 - val_loss: 1.5389\n",
      "Epoch 19/30\n",
      "\u001b[1m313/313\u001b[0m \u001b[32m━━━━━━━━━━━━━━━━━━━━\u001b[0m\u001b[37m\u001b[0m \u001b[1m25s\u001b[0m 81ms/step - accuracy: 0.5612 - loss: 1.3095 - val_accuracy: 0.5029 - val_loss: 1.5046\n",
      "Epoch 20/30\n",
      "\u001b[1m313/313\u001b[0m \u001b[32m━━━━━━━━━━━━━━━━━━━━\u001b[0m\u001b[37m\u001b[0m \u001b[1m25s\u001b[0m 81ms/step - accuracy: 0.5683 - loss: 1.2932 - val_accuracy: 0.5007 - val_loss: 1.5239\n",
      "Epoch 21/30\n",
      "\u001b[1m313/313\u001b[0m \u001b[32m━━━━━━━━━━━━━━━━━━━━\u001b[0m\u001b[37m\u001b[0m \u001b[1m26s\u001b[0m 82ms/step - accuracy: 0.5710 - loss: 1.2812 - val_accuracy: 0.4962 - val_loss: 1.5381\n",
      "Epoch 22/30\n",
      "\u001b[1m313/313\u001b[0m \u001b[32m━━━━━━━━━━━━━━━━━━━━\u001b[0m\u001b[37m\u001b[0m \u001b[1m23s\u001b[0m 74ms/step - accuracy: 0.5750 - loss: 1.2698 - val_accuracy: 0.5088 - val_loss: 1.4870\n",
      "Epoch 23/30\n",
      "\u001b[1m313/313\u001b[0m \u001b[32m━━━━━━━━━━━━━━━━━━━━\u001b[0m\u001b[37m\u001b[0m \u001b[1m23s\u001b[0m 74ms/step - accuracy: 0.5861 - loss: 1.2447 - val_accuracy: 0.4978 - val_loss: 1.5418\n",
      "Epoch 24/30\n",
      "\u001b[1m313/313\u001b[0m \u001b[32m━━━━━━━━━━━━━━━━━━━━\u001b[0m\u001b[37m\u001b[0m \u001b[1m23s\u001b[0m 74ms/step - accuracy: 0.5943 - loss: 1.2297 - val_accuracy: 0.5138 - val_loss: 1.5153\n",
      "Epoch 25/30\n",
      "\u001b[1m313/313\u001b[0m \u001b[32m━━━━━━━━━━━━━━━━━━━━\u001b[0m\u001b[37m\u001b[0m \u001b[1m23s\u001b[0m 74ms/step - accuracy: 0.5991 - loss: 1.2167 - val_accuracy: 0.5043 - val_loss: 1.5594\n",
      "Epoch 26/30\n",
      "\u001b[1m313/313\u001b[0m \u001b[32m━━━━━━━━━━━━━━━━━━━━\u001b[0m\u001b[37m\u001b[0m \u001b[1m23s\u001b[0m 75ms/step - accuracy: 0.6058 - loss: 1.2038 - val_accuracy: 0.5013 - val_loss: 1.5591\n",
      "Epoch 27/30\n",
      "\u001b[1m313/313\u001b[0m \u001b[32m━━━━━━━━━━━━━━━━━━━━\u001b[0m\u001b[37m\u001b[0m \u001b[1m23s\u001b[0m 74ms/step - accuracy: 0.6091 - loss: 1.2016 - val_accuracy: 0.5006 - val_loss: 1.5548\n",
      "Epoch 28/30\n",
      "\u001b[1m313/313\u001b[0m \u001b[32m━━━━━━━━━━━━━━━━━━━━\u001b[0m\u001b[37m\u001b[0m \u001b[1m23s\u001b[0m 74ms/step - accuracy: 0.6159 - loss: 1.1751 - val_accuracy: 0.5162 - val_loss: 1.5319\n",
      "Epoch 29/30\n",
      "\u001b[1m313/313\u001b[0m \u001b[32m━━━━━━━━━━━━━━━━━━━━\u001b[0m\u001b[37m\u001b[0m \u001b[1m23s\u001b[0m 74ms/step - accuracy: 0.6219 - loss: 1.1638 - val_accuracy: 0.4991 - val_loss: 1.5965\n",
      "Epoch 30/30\n",
      "\u001b[1m313/313\u001b[0m \u001b[32m━━━━━━━━━━━━━━━━━━━━\u001b[0m\u001b[37m\u001b[0m \u001b[1m23s\u001b[0m 74ms/step - accuracy: 0.6300 - loss: 1.1460 - val_accuracy: 0.5056 - val_loss: 1.5895\n"
     ]
    }
   ],
   "source": [
    "#train\n",
    "m2=model_le4.fit(x_train,y_train,epochs=30,batch_size=128,validation_split=0.2)"
   ]
  },
  {
   "cell_type": "code",
   "execution_count": 12,
   "id": "67a23e38",
   "metadata": {
    "colab": {
     "base_uri": "https://localhost:8080/"
    },
    "executionInfo": {
     "elapsed": 1115,
     "status": "ok",
     "timestamp": 1761715991659,
     "user": {
      "displayName": "Lohith Bandla",
      "userId": "16055164822052850482"
     },
     "user_tz": -330
    },
    "id": "67a23e38",
    "outputId": "f57019b4-d17c-40f9-cc3c-81dd534e5926"
   },
   "outputs": [
    {
     "name": "stdout",
     "output_type": "stream",
     "text": [
      "\u001b[1m313/313\u001b[0m \u001b[32m━━━━━━━━━━━━━━━━━━━━\u001b[0m\u001b[37m\u001b[0m \u001b[1m1s\u001b[0m 4ms/step - accuracy: 0.4938 - loss: 1.6705\n"
     ]
    }
   ],
   "source": [
    "#evaluate\n",
    "loss,test_accuracy=model_base.evaluate(x_test,y_test)"
   ]
  },
  {
   "cell_type": "code",
   "execution_count": 13,
   "id": "e6f73023",
   "metadata": {
    "executionInfo": {
     "elapsed": 32,
     "status": "ok",
     "timestamp": 1761715991694,
     "user": {
      "displayName": "Lohith Bandla",
      "userId": "16055164822052850482"
     },
     "user_tz": -330
    },
    "id": "e6f73023"
   },
   "outputs": [],
   "source": [
    "#MODEL 3\n",
    "#MODEL with 12 regulizer(le-2) and dropout\n",
    "#architecture\n",
    "model_le2=Sequential()\n",
    "model_le2.add(Flatten(input_shape=(32,32,3))) #first layer\n",
    "model_le2.add(Dense(1024,activation='relu',kernel_regularizer=regularizers.l2(1e-2)))#hidden layer\n",
    "model_le2.add(Dense(512,activation='relu',kernel_regularizer=regularizers.l2(1e-2)))\n",
    "model_le2.add(Dense(256,activation='relu',kernel_regularizer=regularizers.l2(1e-2)))\n",
    "model_le2.add(Dense(128,activation='relu',kernel_regularizer=regularizers.l2(1e-2)))\n",
    "model_le2.add(Dense(64,activation='relu',kernel_regularizer=regularizers.l2(1e-2)))\n",
    "model_le2.add(Dense(10,activation='softmax')) #outout layer"
   ]
  },
  {
   "cell_type": "code",
   "execution_count": 14,
   "id": "0ffc3838",
   "metadata": {
    "executionInfo": {
     "elapsed": 21,
     "status": "ok",
     "timestamp": 1761715991718,
     "user": {
      "displayName": "Lohith Bandla",
      "userId": "16055164822052850482"
     },
     "user_tz": -330
    },
    "id": "0ffc3838"
   },
   "outputs": [],
   "source": [
    "#compile\n",
    "model_le2.compile(optimizer=Adam(learning_rate=0.001),\n",
    "                   loss='categorical_crossentropy',\n",
    "                   metrics=['accuracy'])"
   ]
  },
  {
   "cell_type": "code",
   "execution_count": 15,
   "id": "10615eb3",
   "metadata": {
    "colab": {
     "base_uri": "https://localhost:8080/"
    },
    "executionInfo": {
     "elapsed": 61935,
     "status": "ok",
     "timestamp": 1761716053656,
     "user": {
      "displayName": "Lohith Bandla",
      "userId": "16055164822052850482"
     },
     "user_tz": -330
    },
    "id": "10615eb3",
    "outputId": "94a501ee-e98b-4a2a-b77f-5942ad3d9e1f"
   },
   "outputs": [
    {
     "name": "stdout",
     "output_type": "stream",
     "text": [
      "Epoch 1/30\n",
      "\u001b[1m313/313\u001b[0m \u001b[32m━━━━━━━━━━━━━━━━━━━━\u001b[0m\u001b[37m\u001b[0m \u001b[1m28s\u001b[0m 82ms/step - accuracy: 0.2163 - loss: 4.6390 - val_accuracy: 0.2505 - val_loss: 2.3666\n",
      "Epoch 2/30\n",
      "\u001b[1m313/313\u001b[0m \u001b[32m━━━━━━━━━━━━━━━━━━━━\u001b[0m\u001b[37m\u001b[0m \u001b[1m25s\u001b[0m 80ms/step - accuracy: 0.2470 - loss: 2.2407 - val_accuracy: 0.2601 - val_loss: 2.1604\n",
      "Epoch 3/30\n",
      "\u001b[1m313/313\u001b[0m \u001b[32m━━━━━━━━━━━━━━━━━━━━\u001b[0m\u001b[37m\u001b[0m \u001b[1m26s\u001b[0m 82ms/step - accuracy: 0.2593 - loss: 2.1242 - val_accuracy: 0.2328 - val_loss: 2.1380\n",
      "Epoch 4/30\n",
      "\u001b[1m313/313\u001b[0m \u001b[32m━━━━━━━━━━━━━━━━━━━━\u001b[0m\u001b[37m\u001b[0m \u001b[1m25s\u001b[0m 79ms/step - accuracy: 0.2595 - loss: 2.0864 - val_accuracy: 0.2685 - val_loss: 2.0762\n",
      "Epoch 5/30\n",
      "\u001b[1m313/313\u001b[0m \u001b[32m━━━━━━━━━━━━━━━━━━━━\u001b[0m\u001b[37m\u001b[0m \u001b[1m24s\u001b[0m 78ms/step - accuracy: 0.2630 - loss: 2.0701 - val_accuracy: 0.2613 - val_loss: 2.0822\n",
      "Epoch 6/30\n",
      "\u001b[1m313/313\u001b[0m \u001b[32m━━━━━━━━━━━━━━━━━━━━\u001b[0m\u001b[37m\u001b[0m \u001b[1m25s\u001b[0m 79ms/step - accuracy: 0.2701 - loss: 2.0487 - val_accuracy: 0.2790 - val_loss: 2.0553\n",
      "Epoch 7/30\n",
      "\u001b[1m313/313\u001b[0m \u001b[32m━━━━━━━━━━━━━━━━━━━━\u001b[0m\u001b[37m\u001b[0m \u001b[1m25s\u001b[0m 78ms/step - accuracy: 0.2746 - loss: 2.0394 - val_accuracy: 0.2910 - val_loss: 2.0256\n",
      "Epoch 8/30\n",
      "\u001b[1m313/313\u001b[0m \u001b[32m━━━━━━━━━━━━━━━━━━━━\u001b[0m\u001b[37m\u001b[0m \u001b[1m25s\u001b[0m 79ms/step - accuracy: 0.2869 - loss: 2.0246 - val_accuracy: 0.2964 - val_loss: 2.0163\n",
      "Epoch 9/30\n",
      "\u001b[1m313/313\u001b[0m \u001b[32m━━━━━━━━━━━━━━━━━━━━\u001b[0m\u001b[37m\u001b[0m \u001b[1m25s\u001b[0m 79ms/step - accuracy: 0.2935 - loss: 2.0203 - val_accuracy: 0.2944 - val_loss: 2.0295\n",
      "Epoch 10/30\n",
      "\u001b[1m313/313\u001b[0m \u001b[32m━━━━━━━━━━━━━━━━━━━━\u001b[0m\u001b[37m\u001b[0m \u001b[1m26s\u001b[0m 82ms/step - accuracy: 0.3042 - loss: 2.0068 - val_accuracy: 0.3088 - val_loss: 2.0261\n",
      "Epoch 11/30\n",
      "\u001b[1m313/313\u001b[0m \u001b[32m━━━━━━━━━━━━━━━━━━━━\u001b[0m\u001b[37m\u001b[0m \u001b[1m25s\u001b[0m 80ms/step - accuracy: 0.3143 - loss: 1.9963 - val_accuracy: 0.3031 - val_loss: 2.0350\n",
      "Epoch 12/30\n",
      "\u001b[1m313/313\u001b[0m \u001b[32m━━━━━━━━━━━━━━━━━━━━\u001b[0m\u001b[37m\u001b[0m \u001b[1m25s\u001b[0m 80ms/step - accuracy: 0.3232 - loss: 1.9819 - val_accuracy: 0.3208 - val_loss: 2.0048\n",
      "Epoch 13/30\n",
      "\u001b[1m313/313\u001b[0m \u001b[32m━━━━━━━━━━━━━━━━━━━━\u001b[0m\u001b[37m\u001b[0m \u001b[1m25s\u001b[0m 80ms/step - accuracy: 0.3265 - loss: 1.9658 - val_accuracy: 0.3124 - val_loss: 2.0160\n",
      "Epoch 14/30\n",
      "\u001b[1m313/313\u001b[0m \u001b[32m━━━━━━━━━━━━━━━━━━━━\u001b[0m\u001b[37m\u001b[0m \u001b[1m25s\u001b[0m 81ms/step - accuracy: 0.3275 - loss: 1.9618 - val_accuracy: 0.2998 - val_loss: 2.0401\n",
      "Epoch 15/30\n",
      "\u001b[1m313/313\u001b[0m \u001b[32m━━━━━━━━━━━━━━━━━━━━\u001b[0m\u001b[37m\u001b[0m \u001b[1m25s\u001b[0m 80ms/step - accuracy: 0.3275 - loss: 1.9613 - val_accuracy: 0.3272 - val_loss: 1.9661\n",
      "Epoch 16/30\n",
      "\u001b[1m313/313\u001b[0m \u001b[32m━━━━━━━━━━━━━━━━━━━━\u001b[0m\u001b[37m\u001b[0m \u001b[1m25s\u001b[0m 80ms/step - accuracy: 0.3281 - loss: 1.9605 - val_accuracy: 0.3406 - val_loss: 1.9477\n",
      "Epoch 17/30\n",
      "\u001b[1m313/313\u001b[0m \u001b[32m━━━━━━━━━━━━━━━━━━━━\u001b[0m\u001b[37m\u001b[0m \u001b[1m25s\u001b[0m 80ms/step - accuracy: 0.3359 - loss: 1.9403 - val_accuracy: 0.3126 - val_loss: 2.0133\n",
      "Epoch 18/30\n",
      "\u001b[1m313/313\u001b[0m \u001b[32m━━━━━━━━━━━━━━━━━━━━\u001b[0m\u001b[37m\u001b[0m \u001b[1m25s\u001b[0m 80ms/step - accuracy: 0.3369 - loss: 1.9371 - val_accuracy: 0.3146 - val_loss: 1.9661\n",
      "Epoch 19/30\n",
      "\u001b[1m313/313\u001b[0m \u001b[32m━━━━━━━━━━━━━━━━━━━━\u001b[0m\u001b[37m\u001b[0m \u001b[1m25s\u001b[0m 81ms/step - accuracy: 0.3329 - loss: 1.9467 - val_accuracy: 0.3411 - val_loss: 1.9551\n",
      "Epoch 20/30\n",
      "\u001b[1m313/313\u001b[0m \u001b[32m━━━━━━━━━━━━━━━━━━━━\u001b[0m\u001b[37m\u001b[0m \u001b[1m25s\u001b[0m 81ms/step - accuracy: 0.3370 - loss: 1.9321 - val_accuracy: 0.3493 - val_loss: 1.9256\n",
      "Epoch 21/30\n",
      "\u001b[1m313/313\u001b[0m \u001b[32m━━━━━━━━━━━━━━━━━━━━\u001b[0m\u001b[37m\u001b[0m \u001b[1m25s\u001b[0m 80ms/step - accuracy: 0.3379 - loss: 1.9305 - val_accuracy: 0.3268 - val_loss: 1.9553\n",
      "Epoch 22/30\n",
      "\u001b[1m313/313\u001b[0m \u001b[32m━━━━━━━━━━━━━━━━━━━━\u001b[0m\u001b[37m\u001b[0m \u001b[1m25s\u001b[0m 80ms/step - accuracy: 0.3400 - loss: 1.9264 - val_accuracy: 0.3245 - val_loss: 1.9578\n",
      "Epoch 23/30\n",
      "\u001b[1m313/313\u001b[0m \u001b[32m━━━━━━━━━━━━━━━━━━━━\u001b[0m\u001b[37m\u001b[0m \u001b[1m25s\u001b[0m 80ms/step - accuracy: 0.3419 - loss: 1.9246 - val_accuracy: 0.3294 - val_loss: 1.9505\n",
      "Epoch 24/30\n",
      "\u001b[1m313/313\u001b[0m \u001b[32m━━━━━━━━━━━━━━━━━━━━\u001b[0m\u001b[37m\u001b[0m \u001b[1m25s\u001b[0m 80ms/step - accuracy: 0.3458 - loss: 1.9153 - val_accuracy: 0.3351 - val_loss: 1.9376\n",
      "Epoch 25/30\n",
      "\u001b[1m313/313\u001b[0m \u001b[32m━━━━━━━━━━━━━━━━━━━━\u001b[0m\u001b[37m\u001b[0m \u001b[1m26s\u001b[0m 82ms/step - accuracy: 0.3448 - loss: 1.9115 - val_accuracy: 0.3557 - val_loss: 1.9001\n",
      "Epoch 26/30\n",
      "\u001b[1m313/313\u001b[0m \u001b[32m━━━━━━━━━━━━━━━━━━━━\u001b[0m\u001b[37m\u001b[0m \u001b[1m25s\u001b[0m 81ms/step - accuracy: 0.3426 - loss: 1.9235 - val_accuracy: 0.3460 - val_loss: 1.9278\n",
      "Epoch 27/30\n",
      "\u001b[1m313/313\u001b[0m \u001b[32m━━━━━━━━━━━━━━━━━━━━\u001b[0m\u001b[37m\u001b[0m \u001b[1m25s\u001b[0m 80ms/step - accuracy: 0.3474 - loss: 1.9101 - val_accuracy: 0.3472 - val_loss: 1.9272\n",
      "Epoch 28/30\n",
      "\u001b[1m313/313\u001b[0m \u001b[32m━━━━━━━━━━━━━━━━━━━━\u001b[0m\u001b[37m\u001b[0m \u001b[1m25s\u001b[0m 80ms/step - accuracy: 0.3465 - loss: 1.9048 - val_accuracy: 0.3530 - val_loss: 1.8993\n",
      "Epoch 29/30\n",
      "\u001b[1m313/313\u001b[0m \u001b[32m━━━━━━━━━━━━━━━━━━━━\u001b[0m\u001b[37m\u001b[0m \u001b[1m25s\u001b[0m 80ms/step - accuracy: 0.3461 - loss: 1.9101 - val_accuracy: 0.3018 - val_loss: 2.0064\n",
      "Epoch 30/30\n",
      "\u001b[1m313/313\u001b[0m \u001b[32m━━━━━━━━━━━━━━━━━━━━\u001b[0m\u001b[37m\u001b[0m \u001b[1m25s\u001b[0m 79ms/step - accuracy: 0.3469 - loss: 1.9094 - val_accuracy: 0.3530 - val_loss: 1.9165\n"
     ]
    }
   ],
   "source": [
    "#train\n",
    "m3=model_le2.fit(x_train,y_train,epochs=30,batch_size=128,validation_split=0.2)"
   ]
  },
  {
   "cell_type": "code",
   "execution_count": 16,
   "id": "667ad858",
   "metadata": {
    "colab": {
     "base_uri": "https://localhost:8080/"
    },
    "executionInfo": {
     "elapsed": 2228,
     "status": "ok",
     "timestamp": 1761716055891,
     "user": {
      "displayName": "Lohith Bandla",
      "userId": "16055164822052850482"
     },
     "user_tz": -330
    },
    "id": "667ad858",
    "outputId": "ff002603-ee45-4895-d9d7-dce27e9dca37"
   },
   "outputs": [
    {
     "name": "stdout",
     "output_type": "stream",
     "text": [
      "\u001b[1m313/313\u001b[0m \u001b[32m━━━━━━━━━━━━━━━━━━━━\u001b[0m\u001b[37m\u001b[0m \u001b[1m3s\u001b[0m 10ms/step - accuracy: 0.3517 - loss: 1.8986\n"
     ]
    }
   ],
   "source": [
    "#evaluate\n",
    "loss,test_accuracy=model_le2.evaluate(x_test,y_test)"
   ]
  },
  {
   "cell_type": "code",
   "execution_count": 18,
   "id": "20413bb3",
   "metadata": {
    "colab": {
     "base_uri": "https://localhost:8080/",
     "height": 430
    },
    "executionInfo": {
     "elapsed": 403,
     "status": "ok",
     "timestamp": 1761716056307,
     "user": {
      "displayName": "Lohith Bandla",
      "userId": "16055164822052850482"
     },
     "user_tz": -330
    },
    "id": "20413bb3",
    "outputId": "f9443899-eb97-49ec-d7d8-864bd4a4b068"
   },
   "outputs": [
    {
     "data": {
      "image/png": "[encoded data removed]",
      "text/plain": [
       "<Figure size 640x480 with 1 Axes>"
      ]
     },
     "metadata": {},
     "output_type": "display_data"
    }
   ],
   "source": [
    "#visualisation\n",
    "plt.plot(m1.history['val_accuracy'],label='without reguliser',color='red')\n",
    "plt.plot(m2.history['val_accuracy'],label='le4',color='blue')\n",
    "plt.plot(m3.history['val_accuracy'],label='le2',color='green')\n",
    "plt.title='validation accuracy'\n",
    "plt.xlabel='epochs'\n",
    "plt.ylabel='accuracy'\n",
    "plt.legend()\n",
    "plt.show()"
   ]
  },
  {
   "cell_type": "code",
   "execution_count": null,
   "id": "30f47d4d",
   "metadata": {
    "executionInfo": {
     "elapsed": 3,
     "status": "ok",
     "timestamp": 1761716056312,
     "user": {
      "displayName": "Lohith Bandla",
      "userId": "16055164822052850482"
     },
     "user_tz": -330
    },
    "id": "30f47d4d"
   },
   "outputs": [],
   "source": []
  },
  {
   "cell_type": "code",
   "execution_count": null,
   "id": "14771073",
   "metadata": {},
   "outputs": [],
   "source": []
  }
 ],
 "metadata": {
  "accelerator": "GPU",
  "colab": {
   "gpuType": "T4",
   "provenance": []
  },
  "kernelspec": {
   "display_name": "Python 3",
   "name": "python3"
  },
  "language_info": {
   "codemirror_mode": {
    "name": "ipython",
    "version": 3
   },
   "file_extension": ".py",
   "mimetype": "text/x-python",
   "name": "python",
   "nbconvert_exporter": "python",
   "pygments_lexer": "ipython3",
   "version": "3.13.5"
  }
 },
 "nbformat": 4,
 "nbformat_minor": 5
}
