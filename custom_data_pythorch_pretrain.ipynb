{
 "cells": [
  {
   "cell_type": "code",
   "execution_count": 1,
   "id": "7b27941e",
   "metadata": {},
   "outputs": [
    {
     "name": "stdout",
     "output_type": "stream",
     "text": [
      "hi\n"
     ]
    }
   ],
   "source": [
    "print(\"hi\")"
   ]
  },
  {
   "cell_type": "code",
   "execution_count": 10,
   "id": "1c510a89",
   "metadata": {},
   "outputs": [
    {
     "name": "stdout",
     "output_type": "stream",
     "text": [
      "Using device: cpu\n"
     ]
    }
   ],
   "source": [
    "import torch\n",
    "import torch.nn as nn\n",
    "import torch.optim as optim\n",
    "from torchvision import datasets,transforms\n",
    "from torch.utils.data import DataLoader\n",
    "from torchvision import models\n",
    "import os\n",
    "\n",
    "device = torch.device(\"cuda\" if torch.cuda.is_available() else \"cpu\")\n",
    "print(f\"Using device: {device}\")\n"
   ]
  },
  {
   "cell_type": "code",
   "execution_count": 19,
   "id": "c174eef4",
   "metadata": {},
   "outputs": [],
   "source": [
    "transform = transforms.Compose([transforms.ToTensor(),\n",
    "transforms.Normalize((0.5,0.5,0.5),(0.5,0.5,0.5)),\n",
    "transforms.RandomHorizontalFlip(),\n",
    "transforms.RandomResizedCrop(64)\n",
    "])\n"
   ]
  },
  {
   "cell_type": "code",
   "execution_count": 20,
   "id": "dc2d715f",
   "metadata": {},
   "outputs": [],
   "source": [
    "\n",
    "data_dir = './hymenoptera_data'\n",
    "image_datasets = {}\n",
    "image_datasets['train'] = datasets.ImageFolder(os.path.join(data_dir, 'train'), transform=transform)\n",
    "image_datasets['val'] = datasets.ImageFolder(os.path.join(data_dir, 'val'), transform=transform)\n",
    "train_loader = DataLoader(image_datasets['train'],batch_size=128,shuffle=True,num_workers=2)\n",
    "val_loader = DataLoader(image_datasets['val'],batch_size=128,shuffle=False,num_workers=2)"
   ]
  },
  {
   "cell_type": "code",
   "execution_count": 23,
   "id": "1db08386",
   "metadata": {},
   "outputs": [
    {
     "name": "stdout",
     "output_type": "stream",
     "text": [
      "epoch:1, loss:0.8855292201042175\n",
      "epoch:2, loss:0.7754966020584106\n",
      "epoch:3, loss:0.6833823919296265\n",
      "epoch:4, loss:0.7078452706336975\n",
      "epoch:5, loss:0.6688253879547119\n",
      "epoch:6, loss:0.6135544180870056\n",
      "epoch:7, loss:0.5998637080192566\n",
      "epoch:8, loss:0.5433840751647949\n",
      "epoch:9, loss:0.4688367545604706\n",
      "epoch:10, loss:0.4789082705974579\n"
     ]
    }
   ],
   "source": [
    "model=models.resnet18(pretrained=True)\n",
    "\n",
    "#weights='IMAGENET1K_V1'\n",
    "#freeze all the layers intially\n",
    "for param in model.parameters():\n",
    "    param.requires_grad = False\n",
    "#(fc): Linear(in_features=512, out_features=1000, bias=True)\n",
    "#replace the final fully connnected layers\n",
    "num_features = model.fc.in_features\n",
    "model.fc=nn.Linear(num_features,2)\n",
    "\n",
    "\n",
    "criterion = nn.CrossEntropyLoss()\n",
    "optimizer = optim.Adam(model.fc.parameters(),lr=0.001)\n",
    "\n",
    "for epoch in range(10):\n",
    "    for image,label in train_loader:\n",
    "        image,label = image.to(device),label.to(device)\n",
    "        output=model(image)\n",
    "        loss=criterion(output,label)\n",
    "        loss.backward()\n",
    "        optimizer.step()\n",
    "        optimizer.zero_grad()\n",
    "    print(f\"epoch:{epoch+1}, loss:{loss.item()}\")\n",
    "        \n"
   ]
  },
  {
   "cell_type": "code",
   "execution_count": 25,
   "id": "f3d3397e",
   "metadata": {},
   "outputs": [
    {
     "name": "stdout",
     "output_type": "stream",
     "text": [
      "Test accuracy: 73.20261437908496\n"
     ]
    }
   ],
   "source": [
    "correct=0.0\n",
    "total=0.0\n",
    "model.eval()\n",
    "with torch.no_grad():\n",
    "    for image,label in val_loader:\n",
    "        image,label = image.to(device),label.to(device)\n",
    "        output=model(image)\n",
    "        max,predicted=torch.max(output,1)\n",
    "        correct+= (predicted==label).sum().item()\n",
    "        total+=label.size(0)\n",
    "    print(f\"Test accuracy: {(correct/total)*100}\")  "
   ]
  },
  {
   "cell_type": "code",
   "execution_count": null,
   "id": "b7ac5f83",
   "metadata": {},
   "outputs": [],
   "source": []
  }
 ],
 "metadata": {
  "kernelspec": {
   "display_name": "Python 3",
   "language": "python",
   "name": "python3"
  },
  "language_info": {
   "codemirror_mode": {
    "name": "ipython",
    "version": 3
   },
   "file_extension": ".py",
   "mimetype": "text/x-python",
   "name": "python",
   "nbconvert_exporter": "python",
   "pygments_lexer": "ipython3",
   "version": "3.13.5"
  }
 },
 "nbformat": 4,
 "nbformat_minor": 5
}
